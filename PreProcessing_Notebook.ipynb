{
 "cells": [
  {
   "cell_type": "markdown",
   "metadata": {
    "id": "wIlqPxITEWn4"
   },
   "source": [
    "# Script for PreProcessing for Water Consumption Prediction"
   ]
  },
  {
   "cell_type": "markdown",
   "metadata": {
    "id": "r-Pz1gCcEWoB"
   },
   "source": [
    "### Import Dependencies"
   ]
  },
  {
   "cell_type": "code",
   "execution_count": null,
   "metadata": {
    "id": "IDpi49qbEWoC"
   },
   "outputs": [],
   "source": [
    "import os\n",
    "import yaml\n",
    "from numpy import array\n",
    "\n",
    "import numpy as np\n",
    "\n",
    "import pandas as pd\n",
    "import matplotlib.pyplot as plt\n",
    "\n",
    "from tensorflow.keras.models import Model,Sequential\n",
    "from tensorflow.keras.layers import LSTM, Dropout,Dense,RepeatVector,TimeDistributed,Input\n",
    "from tensorflow.keras.callbacks import TensorBoard\n",
    "from tensorflow.keras.callbacks import ModelCheckpoint\n",
    "from tensorflow.keras.callbacks import LearningRateScheduler\n",
    "from tensorflow.keras.optimizers import Adam as adam\n",
    "from sklearn.model_selection import train_test_split\n",
    "\n",
    "import datetime"
   ]
  },
  {
   "cell_type": "markdown",
   "metadata": {
    "id": "mlwDFheYu0Pi"
   },
   "source": [
    "## Load the Data"
   ]
  },
  {
   "cell_type": "code",
   "execution_count": null,
   "metadata": {
    "id": "sEhGuL0AFZ1D"
   },
   "outputs": [],
   "source": [
    "df = pd.read_csv(\"sample.txt\")"
   ]
  },
  {
   "cell_type": "code",
   "execution_count": null,
   "metadata": {
    "colab": {
     "base_uri": "https://localhost:8080/",
     "height": 202
    },
    "id": "LVLkGmVMFnrf",
    "outputId": "a1ce76ba-b732-413b-e6e1-8afc699a272d"
   },
   "outputs": [
    {
     "data": {
      "text/html": [
       "<div>\n",
       "<style scoped>\n",
       "    .dataframe tbody tr th:only-of-type {\n",
       "        vertical-align: middle;\n",
       "    }\n",
       "\n",
       "    .dataframe tbody tr th {\n",
       "        vertical-align: top;\n",
       "    }\n",
       "\n",
       "    .dataframe thead th {\n",
       "        text-align: right;\n",
       "    }\n",
       "</style>\n",
       "<table border=\"1\" class=\"dataframe\">\n",
       "  <thead>\n",
       "    <tr style=\"text-align: right;\">\n",
       "      <th></th>\n",
       "      <th>id</th>\n",
       "      <th>starttime</th>\n",
       "      <th>stoptime</th>\n",
       "      <th>water_consumption</th>\n",
       "    </tr>\n",
       "  </thead>\n",
       "  <tbody>\n",
       "    <tr>\n",
       "      <th>0</th>\n",
       "      <td>B</td>\n",
       "      <td>2020-12-21 17:49:09.000</td>\n",
       "      <td>2020-12-21 17:50:05.000</td>\n",
       "      <td>3.8</td>\n",
       "    </tr>\n",
       "    <tr>\n",
       "      <th>1</th>\n",
       "      <td>B</td>\n",
       "      <td>2020-12-22 20:08:54.000</td>\n",
       "      <td>2020-12-22 20:10:01.000</td>\n",
       "      <td>6.2</td>\n",
       "    </tr>\n",
       "    <tr>\n",
       "      <th>2</th>\n",
       "      <td>B</td>\n",
       "      <td>2020-09-09 17:54:47.000</td>\n",
       "      <td>2020-09-09 17:56:02.000</td>\n",
       "      <td>3.7</td>\n",
       "    </tr>\n",
       "    <tr>\n",
       "      <th>3</th>\n",
       "      <td>B</td>\n",
       "      <td>2020-12-05 06:49:33.000</td>\n",
       "      <td>2020-12-05 06:50:55.000</td>\n",
       "      <td>7.7</td>\n",
       "    </tr>\n",
       "    <tr>\n",
       "      <th>4</th>\n",
       "      <td>B</td>\n",
       "      <td>2020-12-30 08:54:29.000</td>\n",
       "      <td>2020-12-30 08:55:57.000</td>\n",
       "      <td>8.1</td>\n",
       "    </tr>\n",
       "  </tbody>\n",
       "</table>\n",
       "</div>"
      ],
      "text/plain": [
       "  id                starttime                 stoptime  water_consumption\n",
       "0  B  2020-12-21 17:49:09.000  2020-12-21 17:50:05.000                3.8\n",
       "1  B  2020-12-22 20:08:54.000  2020-12-22 20:10:01.000                6.2\n",
       "2  B  2020-09-09 17:54:47.000  2020-09-09 17:56:02.000                3.7\n",
       "3  B  2020-12-05 06:49:33.000  2020-12-05 06:50:55.000                7.7\n",
       "4  B  2020-12-30 08:54:29.000  2020-12-30 08:55:57.000                8.1"
      ]
     },
     "execution_count": 5,
     "metadata": {
      "tags": []
     },
     "output_type": "execute_result"
    }
   ],
   "source": [
    "df.head()"
   ]
  },
  {
   "cell_type": "code",
   "execution_count": null,
   "metadata": {
    "colab": {
     "base_uri": "https://localhost:8080/"
    },
    "id": "uS3Xr6uu4_v2",
    "outputId": "72c054b3-8cab-4805-a1db-00ed586a42c0"
   },
   "outputs": [
    {
     "data": {
      "text/plain": [
       "(65505, 4)"
      ]
     },
     "execution_count": 5,
     "metadata": {
      "tags": []
     },
     "output_type": "execute_result"
    }
   ],
   "source": [
    "df.shape"
   ]
  },
  {
   "cell_type": "markdown",
   "metadata": {
    "id": "97mk_OsuEWoD"
   },
   "source": [
    "### Resample the Data Household Hour Wise"
   ]
  },
  {
   "cell_type": "markdown",
   "metadata": {
    "id": "VwKd6xM65Fzf"
   },
   "source": [
    "### For Household B"
   ]
  },
  {
   "cell_type": "code",
   "execution_count": null,
   "metadata": {
    "colab": {
     "base_uri": "https://localhost:8080/",
     "height": 232
    },
    "id": "VMMICNddEWoF",
    "outputId": "007ae531-a4c6-446e-e3ac-3ca51ad2b96a"
   },
   "outputs": [
    {
     "data": {
      "text/html": [
       "<div>\n",
       "<style scoped>\n",
       "    .dataframe tbody tr th:only-of-type {\n",
       "        vertical-align: middle;\n",
       "    }\n",
       "\n",
       "    .dataframe tbody tr th {\n",
       "        vertical-align: top;\n",
       "    }\n",
       "\n",
       "    .dataframe thead th {\n",
       "        text-align: right;\n",
       "    }\n",
       "</style>\n",
       "<table border=\"1\" class=\"dataframe\">\n",
       "  <thead>\n",
       "    <tr style=\"text-align: right;\">\n",
       "      <th></th>\n",
       "      <th>water_consumption_B</th>\n",
       "    </tr>\n",
       "    <tr>\n",
       "      <th>time</th>\n",
       "      <th></th>\n",
       "    </tr>\n",
       "  </thead>\n",
       "  <tbody>\n",
       "    <tr>\n",
       "      <th>2020-07-01 04:00:00</th>\n",
       "      <td>40.8</td>\n",
       "    </tr>\n",
       "    <tr>\n",
       "      <th>2020-07-01 05:00:00</th>\n",
       "      <td>36.6</td>\n",
       "    </tr>\n",
       "    <tr>\n",
       "      <th>2020-07-01 06:00:00</th>\n",
       "      <td>0.0</td>\n",
       "    </tr>\n",
       "    <tr>\n",
       "      <th>2020-07-01 07:00:00</th>\n",
       "      <td>0.0</td>\n",
       "    </tr>\n",
       "    <tr>\n",
       "      <th>2020-07-01 08:00:00</th>\n",
       "      <td>0.0</td>\n",
       "    </tr>\n",
       "  </tbody>\n",
       "</table>\n",
       "</div>"
      ],
      "text/plain": [
       "                     water_consumption_B\n",
       "time                                    \n",
       "2020-07-01 04:00:00                 40.8\n",
       "2020-07-01 05:00:00                 36.6\n",
       "2020-07-01 06:00:00                  0.0\n",
       "2020-07-01 07:00:00                  0.0\n",
       "2020-07-01 08:00:00                  0.0"
      ]
     },
     "execution_count": 6,
     "metadata": {
      "tags": []
     },
     "output_type": "execute_result"
    }
   ],
   "source": [
    "# Select Household B\n",
    "dfB = df.loc[df['id'] == \"B\"]\n",
    "\n",
    "# Sort the time time and date wise\n",
    "dfB = dfB.sort_values(by=\"starttime\")\n",
    "\n",
    "# Delete Start time and Id as it is not required for sampling as Stop time is sufficient\n",
    "del dfB[\"starttime\"]\n",
    "del dfB[\"id\"]\n",
    "dfB.columns = [\"time\", \"water_consumption_B\"]\n",
    "\n",
    "dfB['time']= pd.to_datetime(dfB['time'])\n",
    "dfB = dfB.set_index(\"time\")\n",
    "\n",
    "# Resample on hourly basis and sum all values within one hour\n",
    "dfB = dfB.resample(\"H\").sum()\n",
    "dfB.head()"
   ]
  },
  {
   "cell_type": "markdown",
   "metadata": {
    "id": "ZDNEGJRc6xky"
   },
   "source": [
    "### Similarly For Household A, C, D, E"
   ]
  },
  {
   "cell_type": "code",
   "execution_count": null,
   "metadata": {
    "colab": {
     "base_uri": "https://localhost:8080/",
     "height": 232
    },
    "id": "lfhC-zmpRiBk",
    "outputId": "81f03fbf-5652-4bf4-fa09-6de3a1d15db6"
   },
   "outputs": [
    {
     "data": {
      "text/html": [
       "<div>\n",
       "<style scoped>\n",
       "    .dataframe tbody tr th:only-of-type {\n",
       "        vertical-align: middle;\n",
       "    }\n",
       "\n",
       "    .dataframe tbody tr th {\n",
       "        vertical-align: top;\n",
       "    }\n",
       "\n",
       "    .dataframe thead th {\n",
       "        text-align: right;\n",
       "    }\n",
       "</style>\n",
       "<table border=\"1\" class=\"dataframe\">\n",
       "  <thead>\n",
       "    <tr style=\"text-align: right;\">\n",
       "      <th></th>\n",
       "      <th>water_consumption_A</th>\n",
       "    </tr>\n",
       "    <tr>\n",
       "      <th>time</th>\n",
       "      <th></th>\n",
       "    </tr>\n",
       "  </thead>\n",
       "  <tbody>\n",
       "    <tr>\n",
       "      <th>2020-07-01 05:00:00</th>\n",
       "      <td>8.7</td>\n",
       "    </tr>\n",
       "    <tr>\n",
       "      <th>2020-07-01 06:00:00</th>\n",
       "      <td>4.8</td>\n",
       "    </tr>\n",
       "    <tr>\n",
       "      <th>2020-07-01 07:00:00</th>\n",
       "      <td>7.6</td>\n",
       "    </tr>\n",
       "    <tr>\n",
       "      <th>2020-07-01 08:00:00</th>\n",
       "      <td>48.4</td>\n",
       "    </tr>\n",
       "    <tr>\n",
       "      <th>2020-07-01 09:00:00</th>\n",
       "      <td>6.8</td>\n",
       "    </tr>\n",
       "  </tbody>\n",
       "</table>\n",
       "</div>"
      ],
      "text/plain": [
       "                     water_consumption_A\n",
       "time                                    \n",
       "2020-07-01 05:00:00                  8.7\n",
       "2020-07-01 06:00:00                  4.8\n",
       "2020-07-01 07:00:00                  7.6\n",
       "2020-07-01 08:00:00                 48.4\n",
       "2020-07-01 09:00:00                  6.8"
      ]
     },
     "execution_count": 19,
     "metadata": {
      "tags": []
     },
     "output_type": "execute_result"
    }
   ],
   "source": [
    "dfA = df.loc[df['id'] == \"A\"]\n",
    "dfA = dfA.sort_values(by=\"starttime\")\n",
    "del dfA[\"starttime\"]\n",
    "del dfA[\"id\"]\n",
    "dfA.columns = [\"time\", \"water_consumption_A\"]\n",
    "dfA['time']= pd.to_datetime(dfA['time'])\n",
    "dfA = dfA.set_index(\"time\")\n",
    "dfA = dfA.resample(\"H\").sum()\n",
    "dfA.head()"
   ]
  },
  {
   "cell_type": "code",
   "execution_count": null,
   "metadata": {
    "colab": {
     "base_uri": "https://localhost:8080/",
     "height": 232
    },
    "id": "KusYsJ5_RwVR",
    "outputId": "2bf68a20-da08-4461-a9a1-001ba4970316"
   },
   "outputs": [
    {
     "data": {
      "text/html": [
       "<div>\n",
       "<style scoped>\n",
       "    .dataframe tbody tr th:only-of-type {\n",
       "        vertical-align: middle;\n",
       "    }\n",
       "\n",
       "    .dataframe tbody tr th {\n",
       "        vertical-align: top;\n",
       "    }\n",
       "\n",
       "    .dataframe thead th {\n",
       "        text-align: right;\n",
       "    }\n",
       "</style>\n",
       "<table border=\"1\" class=\"dataframe\">\n",
       "  <thead>\n",
       "    <tr style=\"text-align: right;\">\n",
       "      <th></th>\n",
       "      <th>water_consumption_C</th>\n",
       "    </tr>\n",
       "    <tr>\n",
       "      <th>time</th>\n",
       "      <th></th>\n",
       "    </tr>\n",
       "  </thead>\n",
       "  <tbody>\n",
       "    <tr>\n",
       "      <th>2020-07-24 06:00:00</th>\n",
       "      <td>17.6</td>\n",
       "    </tr>\n",
       "    <tr>\n",
       "      <th>2020-07-24 07:00:00</th>\n",
       "      <td>105.6</td>\n",
       "    </tr>\n",
       "    <tr>\n",
       "      <th>2020-07-24 08:00:00</th>\n",
       "      <td>8.5</td>\n",
       "    </tr>\n",
       "    <tr>\n",
       "      <th>2020-07-24 09:00:00</th>\n",
       "      <td>6.8</td>\n",
       "    </tr>\n",
       "    <tr>\n",
       "      <th>2020-07-24 10:00:00</th>\n",
       "      <td>7.2</td>\n",
       "    </tr>\n",
       "  </tbody>\n",
       "</table>\n",
       "</div>"
      ],
      "text/plain": [
       "                     water_consumption_C\n",
       "time                                    \n",
       "2020-07-24 06:00:00                 17.6\n",
       "2020-07-24 07:00:00                105.6\n",
       "2020-07-24 08:00:00                  8.5\n",
       "2020-07-24 09:00:00                  6.8\n",
       "2020-07-24 10:00:00                  7.2"
      ]
     },
     "execution_count": 20,
     "metadata": {
      "tags": []
     },
     "output_type": "execute_result"
    }
   ],
   "source": [
    "dfC = df.loc[df['id'] == \"C\"]\n",
    "dfC = dfC.sort_values(by=\"starttime\")\n",
    "del dfC[\"starttime\"]\n",
    "del dfC[\"id\"]\n",
    "dfC.columns = [\"time\", \"water_consumption_C\"]\n",
    "dfC['time']= pd.to_datetime(dfC['time'])\n",
    "dfC = dfC.set_index(\"time\")\n",
    "dfC = dfC.resample(\"H\").sum()\n",
    "dfC.head()"
   ]
  },
  {
   "cell_type": "code",
   "execution_count": null,
   "metadata": {
    "colab": {
     "base_uri": "https://localhost:8080/",
     "height": 232
    },
    "id": "pqVU9AJQR4kS",
    "outputId": "fa707e7e-a3a4-4323-d08a-a126a9989493"
   },
   "outputs": [
    {
     "data": {
      "text/html": [
       "<div>\n",
       "<style scoped>\n",
       "    .dataframe tbody tr th:only-of-type {\n",
       "        vertical-align: middle;\n",
       "    }\n",
       "\n",
       "    .dataframe tbody tr th {\n",
       "        vertical-align: top;\n",
       "    }\n",
       "\n",
       "    .dataframe thead th {\n",
       "        text-align: right;\n",
       "    }\n",
       "</style>\n",
       "<table border=\"1\" class=\"dataframe\">\n",
       "  <thead>\n",
       "    <tr style=\"text-align: right;\">\n",
       "      <th></th>\n",
       "      <th>water_consumption_D</th>\n",
       "    </tr>\n",
       "    <tr>\n",
       "      <th>time</th>\n",
       "      <th></th>\n",
       "    </tr>\n",
       "  </thead>\n",
       "  <tbody>\n",
       "    <tr>\n",
       "      <th>2020-07-01 04:00:00</th>\n",
       "      <td>8.0</td>\n",
       "    </tr>\n",
       "    <tr>\n",
       "      <th>2020-07-01 05:00:00</th>\n",
       "      <td>5.1</td>\n",
       "    </tr>\n",
       "    <tr>\n",
       "      <th>2020-07-01 06:00:00</th>\n",
       "      <td>0.0</td>\n",
       "    </tr>\n",
       "    <tr>\n",
       "      <th>2020-07-01 07:00:00</th>\n",
       "      <td>18.6</td>\n",
       "    </tr>\n",
       "    <tr>\n",
       "      <th>2020-07-01 08:00:00</th>\n",
       "      <td>20.1</td>\n",
       "    </tr>\n",
       "  </tbody>\n",
       "</table>\n",
       "</div>"
      ],
      "text/plain": [
       "                     water_consumption_D\n",
       "time                                    \n",
       "2020-07-01 04:00:00                  8.0\n",
       "2020-07-01 05:00:00                  5.1\n",
       "2020-07-01 06:00:00                  0.0\n",
       "2020-07-01 07:00:00                 18.6\n",
       "2020-07-01 08:00:00                 20.1"
      ]
     },
     "execution_count": 21,
     "metadata": {
      "tags": []
     },
     "output_type": "execute_result"
    }
   ],
   "source": [
    "dfD = df.loc[df['id'] == \"D\"]\n",
    "dfD = dfD.sort_values(by=\"starttime\")\n",
    "del dfD[\"starttime\"]\n",
    "del dfD[\"id\"]\n",
    "dfD.columns = [\"time\", \"water_consumption_D\"]\n",
    "dfD['time']= pd.to_datetime(dfD['time'])\n",
    "dfD = dfD.set_index(\"time\")\n",
    "dfD = dfD.resample(\"H\").sum()\n",
    "dfD.head()"
   ]
  },
  {
   "cell_type": "code",
   "execution_count": null,
   "metadata": {
    "colab": {
     "base_uri": "https://localhost:8080/",
     "height": 232
    },
    "id": "dMvCIuheSB3D",
    "outputId": "0a7a7243-657d-47ac-f8d1-ee304e400937"
   },
   "outputs": [
    {
     "data": {
      "text/html": [
       "<div>\n",
       "<style scoped>\n",
       "    .dataframe tbody tr th:only-of-type {\n",
       "        vertical-align: middle;\n",
       "    }\n",
       "\n",
       "    .dataframe tbody tr th {\n",
       "        vertical-align: top;\n",
       "    }\n",
       "\n",
       "    .dataframe thead th {\n",
       "        text-align: right;\n",
       "    }\n",
       "</style>\n",
       "<table border=\"1\" class=\"dataframe\">\n",
       "  <thead>\n",
       "    <tr style=\"text-align: right;\">\n",
       "      <th></th>\n",
       "      <th>water_consumption_E</th>\n",
       "    </tr>\n",
       "    <tr>\n",
       "      <th>time</th>\n",
       "      <th></th>\n",
       "    </tr>\n",
       "  </thead>\n",
       "  <tbody>\n",
       "    <tr>\n",
       "      <th>2020-07-01 01:00:00</th>\n",
       "      <td>6.4</td>\n",
       "    </tr>\n",
       "    <tr>\n",
       "      <th>2020-07-01 02:00:00</th>\n",
       "      <td>0.0</td>\n",
       "    </tr>\n",
       "    <tr>\n",
       "      <th>2020-07-01 03:00:00</th>\n",
       "      <td>0.0</td>\n",
       "    </tr>\n",
       "    <tr>\n",
       "      <th>2020-07-01 04:00:00</th>\n",
       "      <td>6.7</td>\n",
       "    </tr>\n",
       "    <tr>\n",
       "      <th>2020-07-01 05:00:00</th>\n",
       "      <td>0.8</td>\n",
       "    </tr>\n",
       "  </tbody>\n",
       "</table>\n",
       "</div>"
      ],
      "text/plain": [
       "                     water_consumption_E\n",
       "time                                    \n",
       "2020-07-01 01:00:00                  6.4\n",
       "2020-07-01 02:00:00                  0.0\n",
       "2020-07-01 03:00:00                  0.0\n",
       "2020-07-01 04:00:00                  6.7\n",
       "2020-07-01 05:00:00                  0.8"
      ]
     },
     "execution_count": 22,
     "metadata": {
      "tags": []
     },
     "output_type": "execute_result"
    }
   ],
   "source": [
    "dfE = df.loc[df['id'] == \"E\"]\n",
    "dfE = dfE.sort_values(by=\"starttime\")\n",
    "del dfE[\"starttime\"]\n",
    "del dfE[\"id\"]\n",
    "dfE.columns = [\"time\", \"water_consumption_E\"]\n",
    "dfE['time']= pd.to_datetime(dfE['time'])\n",
    "dfE = dfE.set_index(\"time\")\n",
    "dfE = dfE.resample(\"H\").sum()\n",
    "dfE.head()"
   ]
  },
  {
   "cell_type": "markdown",
   "metadata": {
    "id": "iwVH1akEAfrY"
   },
   "source": [
    "## Make a Final Pre-Processed Dataset"
   ]
  },
  {
   "cell_type": "code",
   "execution_count": null,
   "metadata": {
    "colab": {
     "base_uri": "https://localhost:8080/",
     "height": 232
    },
    "id": "5sOO0XANAjBa",
    "outputId": "526a6112-6d3d-4be1-df44-1924d572be2f"
   },
   "outputs": [
    {
     "data": {
      "text/html": [
       "<div>\n",
       "<style scoped>\n",
       "    .dataframe tbody tr th:only-of-type {\n",
       "        vertical-align: middle;\n",
       "    }\n",
       "\n",
       "    .dataframe tbody tr th {\n",
       "        vertical-align: top;\n",
       "    }\n",
       "\n",
       "    .dataframe thead th {\n",
       "        text-align: right;\n",
       "    }\n",
       "</style>\n",
       "<table border=\"1\" class=\"dataframe\">\n",
       "  <thead>\n",
       "    <tr style=\"text-align: right;\">\n",
       "      <th></th>\n",
       "      <th>water_consumption_B</th>\n",
       "      <th>water_consumption_A</th>\n",
       "      <th>water_consumption_D</th>\n",
       "      <th>water_consumption_C</th>\n",
       "      <th>water_consumption_E</th>\n",
       "    </tr>\n",
       "    <tr>\n",
       "      <th>time</th>\n",
       "      <th></th>\n",
       "      <th></th>\n",
       "      <th></th>\n",
       "      <th></th>\n",
       "      <th></th>\n",
       "    </tr>\n",
       "  </thead>\n",
       "  <tbody>\n",
       "    <tr>\n",
       "      <th>2020-07-01 04:00:00</th>\n",
       "      <td>40.8</td>\n",
       "      <td>NaN</td>\n",
       "      <td>8.0</td>\n",
       "      <td>NaN</td>\n",
       "      <td>6.7</td>\n",
       "    </tr>\n",
       "    <tr>\n",
       "      <th>2020-07-01 05:00:00</th>\n",
       "      <td>36.6</td>\n",
       "      <td>8.7</td>\n",
       "      <td>5.1</td>\n",
       "      <td>NaN</td>\n",
       "      <td>0.8</td>\n",
       "    </tr>\n",
       "    <tr>\n",
       "      <th>2020-07-01 06:00:00</th>\n",
       "      <td>0.0</td>\n",
       "      <td>4.8</td>\n",
       "      <td>0.0</td>\n",
       "      <td>NaN</td>\n",
       "      <td>0.0</td>\n",
       "    </tr>\n",
       "    <tr>\n",
       "      <th>2020-07-01 07:00:00</th>\n",
       "      <td>0.0</td>\n",
       "      <td>7.6</td>\n",
       "      <td>18.6</td>\n",
       "      <td>NaN</td>\n",
       "      <td>0.0</td>\n",
       "    </tr>\n",
       "    <tr>\n",
       "      <th>2020-07-01 08:00:00</th>\n",
       "      <td>0.0</td>\n",
       "      <td>48.4</td>\n",
       "      <td>20.1</td>\n",
       "      <td>NaN</td>\n",
       "      <td>0.0</td>\n",
       "    </tr>\n",
       "  </tbody>\n",
       "</table>\n",
       "</div>"
      ],
      "text/plain": [
       "                     water_consumption_B  ...  water_consumption_E\n",
       "time                                      ...                     \n",
       "2020-07-01 04:00:00                 40.8  ...                  6.7\n",
       "2020-07-01 05:00:00                 36.6  ...                  0.8\n",
       "2020-07-01 06:00:00                  0.0  ...                  0.0\n",
       "2020-07-01 07:00:00                  0.0  ...                  0.0\n",
       "2020-07-01 08:00:00                  0.0  ...                  0.0\n",
       "\n",
       "[5 rows x 5 columns]"
      ]
     },
     "execution_count": 23,
     "metadata": {
      "tags": []
     },
     "output_type": "execute_result"
    }
   ],
   "source": [
    "df_processed_1 = pd.merge(dfB, dfA, left_index = True, right_index = True, how = 'left')\n",
    "df_processed_2 = pd.merge(dfD, dfC, left_index = True, right_index = True, how = 'left')\n",
    "df_processed_3 = pd.merge(df_processed_1, df_processed_2, left_index = True, right_index = True, how = 'left')\n",
    "df_processed = pd.merge(df_processed_3, dfE, left_index = True, right_index = True, how = 'left')\n",
    "df_processed.head()"
   ]
  },
  {
   "cell_type": "code",
   "execution_count": null,
   "metadata": {
    "id": "p-y7kbOABlml"
   },
   "outputs": [],
   "source": [
    "# Fill NaN values with 0\n",
    "df_processed = df_processed.fillna(0)"
   ]
  },
  {
   "cell_type": "markdown",
   "metadata": {
    "id": "9ywAVnzh7Xum"
   },
   "source": [
    "### Save Preprocessed Data"
   ]
  },
  {
   "cell_type": "code",
   "execution_count": null,
   "metadata": {
    "id": "mwOWt3BYDWOJ"
   },
   "outputs": [],
   "source": [
    "# Save Preprocessed Data\n",
    "df_processed.to_csv(\"data_resampled_hour.csv\")"
   ]
  }
 ],
 "metadata": {
  "accelerator": "GPU",
  "colab": {
   "collapsed_sections": [],
   "name": "PreProcess_Hourly.ipynb",
   "provenance": []
  },
  "kernelspec": {
   "display_name": "Python 3",
   "language": "python",
   "name": "python3"
  },
  "language_info": {
   "codemirror_mode": {
    "name": "ipython",
    "version": 3
   },
   "file_extension": ".py",
   "mimetype": "text/x-python",
   "name": "python",
   "nbconvert_exporter": "python",
   "pygments_lexer": "ipython3",
   "version": "3.7.6"
  }
 },
 "nbformat": 4,
 "nbformat_minor": 1
}
