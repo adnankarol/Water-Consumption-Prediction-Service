{
 "cells": [
  {
   "cell_type": "markdown",
   "metadata": {
    "id": "o4acFoxTkWPn"
   },
   "source": [
    "# Script for Model Training for Water Consumption Prediction"
   ]
  },
  {
   "cell_type": "markdown",
   "metadata": {
    "id": "UBjvHUUYknb4"
   },
   "source": [
    "### Import Dependencies"
   ]
  },
  {
   "cell_type": "code",
   "execution_count": 96,
   "metadata": {
    "id": "E1sz437AVAlg"
   },
   "outputs": [],
   "source": [
    "import os\n",
    "import yaml\n",
    "from numpy import array\n",
    "import numpy as np\n",
    "import tensorflow as tf\n",
    "import pandas as pd\n",
    "import matplotlib.pyplot as plt\n",
    "from tensorflow.keras.models import Model,Sequential\n",
    "from tensorflow.keras.layers import LSTM, Dropout,Dense,RepeatVector,TimeDistributed,Input,BatchNormalization\n",
    "from tensorflow.keras.callbacks import TensorBoard\n",
    "from tensorflow.keras.callbacks import ModelCheckpoint\n",
    "from tensorflow.keras.callbacks import LearningRateScheduler\n",
    "from tensorflow.keras.optimizers import Adam as adam\n",
    "from sklearn.model_selection import train_test_split\n",
    "import datetime"
   ]
  },
  {
   "cell_type": "markdown",
   "metadata": {
    "id": "xaEShxFAkqur"
   },
   "source": [
    "## Load the Data"
   ]
  },
  {
   "cell_type": "code",
   "execution_count": 98,
   "metadata": {
    "colab": {
     "base_uri": "https://localhost:8080/",
     "height": 252
    },
    "id": "aQ0-_PKSHPYh",
    "outputId": "008406ac-2b5d-451f-91f4-0cd64898f165"
   },
   "outputs": [
    {
     "name": "stdout",
     "output_type": "stream",
     "text": [
      "(4413, 5)\n"
     ]
    },
    {
     "data": {
      "text/html": [
       "<div>\n",
       "<style scoped>\n",
       "    .dataframe tbody tr th:only-of-type {\n",
       "        vertical-align: middle;\n",
       "    }\n",
       "\n",
       "    .dataframe tbody tr th {\n",
       "        vertical-align: top;\n",
       "    }\n",
       "\n",
       "    .dataframe thead th {\n",
       "        text-align: right;\n",
       "    }\n",
       "</style>\n",
       "<table border=\"1\" class=\"dataframe\">\n",
       "  <thead>\n",
       "    <tr style=\"text-align: right;\">\n",
       "      <th></th>\n",
       "      <th>water_consumption_B</th>\n",
       "      <th>water_consumption_A</th>\n",
       "      <th>water_consumption_D</th>\n",
       "      <th>water_consumption_C</th>\n",
       "      <th>water_consumption_E</th>\n",
       "    </tr>\n",
       "    <tr>\n",
       "      <th>time</th>\n",
       "      <th></th>\n",
       "      <th></th>\n",
       "      <th></th>\n",
       "      <th></th>\n",
       "      <th></th>\n",
       "    </tr>\n",
       "  </thead>\n",
       "  <tbody>\n",
       "    <tr>\n",
       "      <th>2020-07-01 04:00:00</th>\n",
       "      <td>40.8</td>\n",
       "      <td>0.0</td>\n",
       "      <td>8.0</td>\n",
       "      <td>0.0</td>\n",
       "      <td>6.7</td>\n",
       "    </tr>\n",
       "    <tr>\n",
       "      <th>2020-07-01 05:00:00</th>\n",
       "      <td>36.6</td>\n",
       "      <td>8.7</td>\n",
       "      <td>5.1</td>\n",
       "      <td>0.0</td>\n",
       "      <td>0.8</td>\n",
       "    </tr>\n",
       "    <tr>\n",
       "      <th>2020-07-01 06:00:00</th>\n",
       "      <td>0.0</td>\n",
       "      <td>4.8</td>\n",
       "      <td>0.0</td>\n",
       "      <td>0.0</td>\n",
       "      <td>0.0</td>\n",
       "    </tr>\n",
       "    <tr>\n",
       "      <th>2020-07-01 07:00:00</th>\n",
       "      <td>0.0</td>\n",
       "      <td>7.6</td>\n",
       "      <td>18.6</td>\n",
       "      <td>0.0</td>\n",
       "      <td>0.0</td>\n",
       "    </tr>\n",
       "    <tr>\n",
       "      <th>2020-07-01 08:00:00</th>\n",
       "      <td>0.0</td>\n",
       "      <td>48.4</td>\n",
       "      <td>20.1</td>\n",
       "      <td>0.0</td>\n",
       "      <td>0.0</td>\n",
       "    </tr>\n",
       "  </tbody>\n",
       "</table>\n",
       "</div>"
      ],
      "text/plain": [
       "                     water_consumption_B  ...  water_consumption_E\n",
       "time                                      ...                     \n",
       "2020-07-01 04:00:00                 40.8  ...                  6.7\n",
       "2020-07-01 05:00:00                 36.6  ...                  0.8\n",
       "2020-07-01 06:00:00                  0.0  ...                  0.0\n",
       "2020-07-01 07:00:00                  0.0  ...                  0.0\n",
       "2020-07-01 08:00:00                  0.0  ...                  0.0\n",
       "\n",
       "[5 rows x 5 columns]"
      ]
     },
     "execution_count": 98,
     "metadata": {
      "tags": []
     },
     "output_type": "execute_result"
    }
   ],
   "source": [
    "# Prepare dataframe\n",
    "data = pd.read_csv(\"data_resampled_hour.csv\")\n",
    "data = data.rename({\"Unnamed: 0\":\"time\"},axis=1)\n",
    "data = data.set_index(\"time\")\n",
    "\n",
    "print(data.shape)\n",
    "data.head()"
   ]
  },
  {
   "cell_type": "markdown",
   "metadata": {
    "id": "P6XPAMwUkvzW"
   },
   "source": [
    "### Perform Processing to Data"
   ]
  },
  {
   "cell_type": "code",
   "execution_count": 100,
   "metadata": {
    "id": "bVYWF8umkzO2"
   },
   "outputs": [],
   "source": [
    "# Look into Last 48 hours and predict next 1 hour \n",
    "n_past= window = 48\n",
    "n_future = 1\n",
    "\n",
    "n_features = 5"
   ]
  },
  {
   "cell_type": "code",
   "execution_count": 102,
   "metadata": {
    "id": "Dwk6fwL4Uy9p"
   },
   "outputs": [],
   "source": [
    "# Scaling the Data\n",
    "from sklearn import preprocessing\n",
    "import joblib\n",
    "\n",
    "scaler = preprocessing.MinMaxScaler(feature_range=(0, 1))\n",
    "data = scaler.fit_transform(data)"
   ]
  },
  {
   "cell_type": "markdown",
   "metadata": {
    "id": "S-XuwrCflIxk"
   },
   "source": [
    "### Train-Test Split"
   ]
  },
  {
   "cell_type": "code",
   "execution_count": 103,
   "metadata": {
    "colab": {
     "base_uri": "https://localhost:8080/"
    },
    "id": "w9JFSAfGJyax",
    "outputId": "c356d885-eca4-477d-c677-5235e54ea306"
   },
   "outputs": [
    {
     "name": "stdout",
     "output_type": "stream",
     "text": [
      "(2581, 5) (1390, 5) (442, 5)\n"
     ]
    }
   ],
   "source": [
    "train_df, test_df = train_test_split(data, test_size=0.1, shuffle=False)\n",
    "\n",
    "train_df,val_df = train_test_split(train_df, test_size=0.35, shuffle=False)\n",
    "print(train_df.shape,val_df.shape,test_df.shape)"
   ]
  },
  {
   "cell_type": "markdown",
   "metadata": {
    "id": "UDCmBNJClNPu"
   },
   "source": [
    "### Helper Functions"
   ]
  },
  {
   "cell_type": "code",
   "execution_count": 104,
   "metadata": {
    "id": "b9M1GdjuKJ7L"
   },
   "outputs": [],
   "source": [
    "'''\n",
    "method: split_series\n",
    "input_parameters: series, n_past, n_future\n",
    "output_parameters: np.array(X), np.array(y)\n",
    "description: This method takes the data and splits it for supervised learning where input is the\n",
    "             last n observations and output is the future m observations. \n",
    "'''\n",
    "\n",
    "\n",
    "def split_series(series, n_past, n_future):\n",
    "    #\n",
    "    # n_past ==> no of past observations\n",
    "    #\n",
    "    # n_future ==> no of future observations\n",
    "    #\n",
    "    X, y = list(), list()\n",
    "    for window_start in range(len(series)):\n",
    "        past_end = window_start + n_past\n",
    "        future_end = past_end + n_future\n",
    "        if future_end > len(series):\n",
    "            break\n",
    "        # slicing the past and future parts of the window\n",
    "        past, future = series[window_start:past_end, :], series[past_end:future_end, :]\n",
    "        X.append(past)\n",
    "        y.append(future)\n",
    "    return np.array(X), np.array(y)"
   ]
  },
  {
   "cell_type": "code",
   "execution_count": 105,
   "metadata": {
    "id": "CKtpfM8oLiPJ"
   },
   "outputs": [],
   "source": [
    "'''\n",
    "method: plot_training\n",
    "input_parameters: history\n",
    "output_parameters: none\n",
    "description: This method plots the training and validation performance over the epochs.\n",
    "'''\n",
    "\n",
    "\n",
    "def plot_training(history):\n",
    "    print(history.history.keys())\n",
    "\n",
    "    #  \"MAE: Mean Absolute Error\"\n",
    "    plt.plot(history.history['mae'])\n",
    "    plt.plot(history.history['val_mae'])\n",
    "    plt.title('model mae')\n",
    "    plt.ylabel('mae')\n",
    "    plt.xlabel('epoch')\n",
    "    plt.legend(['train', 'validation'], loc='upper left')\n",
    "    plt.show()\n",
    "    \n",
    "    # \"Loss\"\n",
    "    plt.plot(history.history['loss'])\n",
    "    plt.plot(history.history['val_loss'])\n",
    "    plt.title('model loss')\n",
    "    plt.ylabel('loss')\n",
    "    plt.xlabel('epoch')\n",
    "    plt.legend(['train', 'validation'], loc='upper left')\n",
    "    plt.show()"
   ]
  },
  {
   "cell_type": "code",
   "execution_count": 106,
   "metadata": {
    "colab": {
     "base_uri": "https://localhost:8080/"
    },
    "id": "lirF_8ciKQ9X",
    "outputId": "be12a61c-97bb-4cc7-b17c-36deba2a4cbe"
   },
   "outputs": [
    {
     "name": "stdout",
     "output_type": "stream",
     "text": [
      "Input Shape:  (2533, 48, 5) (394, 48, 5) (1342, 48, 5)\n",
      "Output Shape:  (2533, 1, 5) (394, 1, 5) (1342, 1, 5)\n"
     ]
    }
   ],
   "source": [
    "# Split data into past and future observations and reshape\n",
    "\n",
    "train = train_df\n",
    "test = test_df\n",
    "\n",
    "X_train, y_train = split_series(train, n_past, n_future)\n",
    "X_train = X_train.reshape((X_train.shape[0], X_train.shape[1], n_features))\n",
    "y_train = y_train.reshape((y_train.shape[0], y_train.shape[1], n_features))\n",
    "\n",
    "X_test, y_test = split_series(test, n_past, n_future)\n",
    "X_test = X_test.reshape((X_test.shape[0], X_test.shape[1], n_features))\n",
    "y_test = y_test.reshape((y_test.shape[0], y_test.shape[1], n_features))\n",
    "\n",
    "X_val, y_val = split_series(val_df, n_past, n_future)\n",
    "X_val = X_val.reshape((X_val.shape[0], X_val.shape[1], n_features))\n",
    "y_val = y_val.reshape((y_val.shape[0], y_val.shape[1], n_features))\n",
    "\n",
    "print(\"Input Shape: \", X_train.shape, X_test.shape, X_val.shape)\n",
    "print(\"Output Shape: \", y_train.shape, y_test.shape, y_val.shape)   "
   ]
  },
  {
   "cell_type": "markdown",
   "metadata": {
    "id": "uDvUV4OzlUQg"
   },
   "source": [
    "### Create the CNN LSTM Model"
   ]
  },
  {
   "cell_type": "code",
   "execution_count": 110,
   "metadata": {
    "colab": {
     "base_uri": "https://localhost:8080/"
    },
    "id": "9AfP4H5eIiaM",
    "outputId": "399ed683-9e07-4cd6-bb46-521bd7e09fcd"
   },
   "outputs": [
    {
     "name": "stdout",
     "output_type": "stream",
     "text": [
      "WARNING:tensorflow:Layer lstm_3 will not use cuDNN kernels since it doesn't meet the criteria. It will use a generic GPU kernel as fallback when running on GPU.\n"
     ]
    }
   ],
   "source": [
    "# define model\n",
    "from tensorflow.keras.layers import Conv1D\n",
    "from tensorflow.keras.layers import MaxPooling1D\n",
    "from tensorflow.keras.layers import Flatten\n",
    "\n",
    "model = Sequential()\n",
    "model.add(Conv1D(filters=64, kernel_size=3, activation='relu', input_shape=(window,n_features)))\n",
    "model.add(Conv1D(filters=32, kernel_size=3, activation='relu'))\n",
    "model.add(Dropout(0.2))\n",
    "model.add(MaxPooling1D(pool_size=2))\n",
    "model.add(Flatten())\n",
    "model.add(RepeatVector(y_test.shape[1]))\n",
    "model.add(LSTM(50, activation='relu', return_sequences=True))\n",
    "model.add(TimeDistributed(Dense(20, activation='relu')))\n",
    "model.add(TimeDistributed(Dense(n_features)))\n"
   ]
  },
  {
   "cell_type": "code",
   "execution_count": 111,
   "metadata": {
    "colab": {
     "base_uri": "https://localhost:8080/"
    },
    "id": "fOZ6n0Ee6-gs",
    "outputId": "b6d5e795-b97f-46bf-f5ef-ba17c2339dbd"
   },
   "outputs": [
    {
     "name": "stdout",
     "output_type": "stream",
     "text": [
      "Model: \"sequential_3\"\n",
      "_________________________________________________________________\n",
      "Layer (type)                 Output Shape              Param #   \n",
      "=================================================================\n",
      "conv1d_6 (Conv1D)            (None, 46, 64)            1024      \n",
      "_________________________________________________________________\n",
      "conv1d_7 (Conv1D)            (None, 44, 32)            6176      \n",
      "_________________________________________________________________\n",
      "dropout_3 (Dropout)          (None, 44, 32)            0         \n",
      "_________________________________________________________________\n",
      "max_pooling1d_3 (MaxPooling1 (None, 22, 32)            0         \n",
      "_________________________________________________________________\n",
      "flatten_3 (Flatten)          (None, 704)               0         \n",
      "_________________________________________________________________\n",
      "repeat_vector_3 (RepeatVecto (None, 1, 704)            0         \n",
      "_________________________________________________________________\n",
      "lstm_3 (LSTM)                (None, 1, 50)             151000    \n",
      "_________________________________________________________________\n",
      "time_distributed_6 (TimeDist (None, 1, 20)             1020      \n",
      "_________________________________________________________________\n",
      "time_distributed_7 (TimeDist (None, 1, 5)              105       \n",
      "=================================================================\n",
      "Total params: 159,325\n",
      "Trainable params: 159,325\n",
      "Non-trainable params: 0\n",
      "_________________________________________________________________\n"
     ]
    }
   ],
   "source": [
    "model.summary()"
   ]
  },
  {
   "cell_type": "markdown",
   "metadata": {
    "id": "yyU10piTlnPn"
   },
   "source": [
    "### Start the Model Training"
   ]
  },
  {
   "cell_type": "code",
   "execution_count": 112,
   "metadata": {
    "id": "ogk8XLssLqvR"
   },
   "outputs": [],
   "source": [
    "'''\n",
    "method: training\n",
    "input_parameters: model, X_train, y_train,X_test, y_test\n",
    "output_parameters: none\n",
    "description: This method trains the neural network based on the model passed and also\n",
    "             plots the training results.\n",
    "'''\n",
    "\n",
    "def training(model,X_train, y_train,X_val, y_val):\n",
    "\n",
    "    initial_learning_rate = 0.001\n",
    "    lr_schedule = tf.keras.optimizers.schedules.ExponentialDecay(\n",
    "    initial_learning_rate,\n",
    "    decay_steps=100000,\n",
    "    decay_rate=0.96,\n",
    "    staircase=True)\n",
    "\n",
    "    opt = tf.keras.optimizers.Adam(learning_rate=0.0001)\n",
    "    # compile the model\n",
    "    model.compile(optimizer=opt, loss='mse', metrics = ['mae']) \n",
    "    history = model.fit(X_train, y_train, epochs=50, validation_data=(X_val, y_val), batch_size=16, verbose=1)\n",
    "\n",
    "    # plot training performance over the epochs\n",
    "    plot_training(history)"
   ]
  },
  {
   "cell_type": "code",
   "execution_count": 113,
   "metadata": {
    "colab": {
     "base_uri": "https://localhost:8080/",
     "height": 1000
    },
    "id": "CZC26exkLvWR",
    "outputId": "132898d3-56e4-4341-ef16-9898d7e97807"
   },
   "outputs": [
    {
     "name": "stdout",
     "output_type": "stream",
     "text": [
      "Epoch 1/50\n",
      "159/159 [==============================] - 3s 9ms/step - loss: 0.0059 - mae: 0.0337 - val_loss: 0.0065 - val_mae: 0.0397\n",
      "Epoch 2/50\n",
      "159/159 [==============================] - 1s 7ms/step - loss: 0.0050 - mae: 0.0339 - val_loss: 0.0060 - val_mae: 0.0360\n",
      "Epoch 3/50\n",
      "159/159 [==============================] - 1s 7ms/step - loss: 0.0046 - mae: 0.0328 - val_loss: 0.0058 - val_mae: 0.0361\n",
      "Epoch 4/50\n",
      "159/159 [==============================] - 1s 7ms/step - loss: 0.0044 - mae: 0.0317 - val_loss: 0.0058 - val_mae: 0.0391\n",
      "Epoch 5/50\n",
      "159/159 [==============================] - 1s 7ms/step - loss: 0.0043 - mae: 0.0318 - val_loss: 0.0058 - val_mae: 0.0373\n",
      "Epoch 6/50\n",
      "159/159 [==============================] - 1s 7ms/step - loss: 0.0042 - mae: 0.0312 - val_loss: 0.0056 - val_mae: 0.0354\n",
      "Epoch 7/50\n",
      "159/159 [==============================] - 1s 7ms/step - loss: 0.0041 - mae: 0.0309 - val_loss: 0.0056 - val_mae: 0.0361\n",
      "Epoch 8/50\n",
      "159/159 [==============================] - 1s 7ms/step - loss: 0.0041 - mae: 0.0304 - val_loss: 0.0056 - val_mae: 0.0366\n",
      "Epoch 9/50\n",
      "159/159 [==============================] - 1s 7ms/step - loss: 0.0040 - mae: 0.0305 - val_loss: 0.0056 - val_mae: 0.0363\n",
      "Epoch 10/50\n",
      "159/159 [==============================] - 1s 8ms/step - loss: 0.0040 - mae: 0.0302 - val_loss: 0.0056 - val_mae: 0.0360\n",
      "Epoch 11/50\n",
      "159/159 [==============================] - 1s 7ms/step - loss: 0.0040 - mae: 0.0301 - val_loss: 0.0056 - val_mae: 0.0346\n",
      "Epoch 12/50\n",
      "159/159 [==============================] - 1s 7ms/step - loss: 0.0039 - mae: 0.0299 - val_loss: 0.0055 - val_mae: 0.0344\n",
      "Epoch 13/50\n",
      "159/159 [==============================] - 1s 7ms/step - loss: 0.0039 - mae: 0.0298 - val_loss: 0.0056 - val_mae: 0.0361\n",
      "Epoch 14/50\n",
      "159/159 [==============================] - 1s 7ms/step - loss: 0.0039 - mae: 0.0295 - val_loss: 0.0056 - val_mae: 0.0359\n",
      "Epoch 15/50\n",
      "159/159 [==============================] - 1s 7ms/step - loss: 0.0038 - mae: 0.0296 - val_loss: 0.0056 - val_mae: 0.0353\n",
      "Epoch 16/50\n",
      "159/159 [==============================] - 1s 6ms/step - loss: 0.0038 - mae: 0.0293 - val_loss: 0.0056 - val_mae: 0.0351\n",
      "Epoch 17/50\n",
      "159/159 [==============================] - 1s 7ms/step - loss: 0.0038 - mae: 0.0294 - val_loss: 0.0055 - val_mae: 0.0348\n",
      "Epoch 18/50\n",
      "159/159 [==============================] - 1s 7ms/step - loss: 0.0037 - mae: 0.0292 - val_loss: 0.0056 - val_mae: 0.0366\n",
      "Epoch 19/50\n",
      "159/159 [==============================] - 1s 7ms/step - loss: 0.0037 - mae: 0.0291 - val_loss: 0.0055 - val_mae: 0.0360\n",
      "Epoch 20/50\n",
      "159/159 [==============================] - 1s 7ms/step - loss: 0.0036 - mae: 0.0290 - val_loss: 0.0055 - val_mae: 0.0362\n",
      "Epoch 21/50\n",
      "159/159 [==============================] - 1s 7ms/step - loss: 0.0036 - mae: 0.0290 - val_loss: 0.0057 - val_mae: 0.0363\n",
      "Epoch 22/50\n",
      "159/159 [==============================] - 1s 7ms/step - loss: 0.0036 - mae: 0.0289 - val_loss: 0.0056 - val_mae: 0.0375\n",
      "Epoch 23/50\n",
      "159/159 [==============================] - 1s 7ms/step - loss: 0.0035 - mae: 0.0287 - val_loss: 0.0054 - val_mae: 0.0354\n",
      "Epoch 24/50\n",
      "159/159 [==============================] - 1s 7ms/step - loss: 0.0035 - mae: 0.0286 - val_loss: 0.0055 - val_mae: 0.0363\n",
      "Epoch 25/50\n",
      "159/159 [==============================] - 1s 7ms/step - loss: 0.0035 - mae: 0.0287 - val_loss: 0.0056 - val_mae: 0.0380\n",
      "Epoch 26/50\n",
      "159/159 [==============================] - 1s 6ms/step - loss: 0.0034 - mae: 0.0285 - val_loss: 0.0057 - val_mae: 0.0370\n",
      "Epoch 27/50\n",
      "159/159 [==============================] - 1s 7ms/step - loss: 0.0034 - mae: 0.0284 - val_loss: 0.0056 - val_mae: 0.0368\n",
      "Epoch 28/50\n",
      "159/159 [==============================] - 1s 7ms/step - loss: 0.0034 - mae: 0.0283 - val_loss: 0.0055 - val_mae: 0.0360\n",
      "Epoch 29/50\n",
      "159/159 [==============================] - 1s 8ms/step - loss: 0.0034 - mae: 0.0286 - val_loss: 0.0057 - val_mae: 0.0377\n",
      "Epoch 30/50\n",
      "159/159 [==============================] - 1s 6ms/step - loss: 0.0033 - mae: 0.0282 - val_loss: 0.0056 - val_mae: 0.0369\n",
      "Epoch 31/50\n",
      "159/159 [==============================] - 1s 7ms/step - loss: 0.0033 - mae: 0.0284 - val_loss: 0.0055 - val_mae: 0.0363\n",
      "Epoch 32/50\n",
      "159/159 [==============================] - 1s 7ms/step - loss: 0.0033 - mae: 0.0280 - val_loss: 0.0057 - val_mae: 0.0373\n",
      "Epoch 33/50\n",
      "159/159 [==============================] - 1s 7ms/step - loss: 0.0033 - mae: 0.0281 - val_loss: 0.0056 - val_mae: 0.0361\n",
      "Epoch 34/50\n",
      "159/159 [==============================] - 1s 7ms/step - loss: 0.0032 - mae: 0.0278 - val_loss: 0.0056 - val_mae: 0.0377\n",
      "Epoch 35/50\n",
      "159/159 [==============================] - 1s 7ms/step - loss: 0.0032 - mae: 0.0280 - val_loss: 0.0058 - val_mae: 0.0380\n",
      "Epoch 36/50\n",
      "159/159 [==============================] - 1s 6ms/step - loss: 0.0032 - mae: 0.0280 - val_loss: 0.0055 - val_mae: 0.0360\n",
      "Epoch 37/50\n",
      "159/159 [==============================] - 1s 7ms/step - loss: 0.0031 - mae: 0.0278 - val_loss: 0.0056 - val_mae: 0.0372\n",
      "Epoch 38/50\n",
      "159/159 [==============================] - 1s 7ms/step - loss: 0.0031 - mae: 0.0278 - val_loss: 0.0056 - val_mae: 0.0364\n",
      "Epoch 39/50\n",
      "159/159 [==============================] - 1s 7ms/step - loss: 0.0031 - mae: 0.0275 - val_loss: 0.0056 - val_mae: 0.0375\n",
      "Epoch 40/50\n",
      "159/159 [==============================] - 1s 7ms/step - loss: 0.0031 - mae: 0.0277 - val_loss: 0.0056 - val_mae: 0.0363\n",
      "Epoch 41/50\n",
      "159/159 [==============================] - 1s 7ms/step - loss: 0.0030 - mae: 0.0275 - val_loss: 0.0056 - val_mae: 0.0353\n",
      "Epoch 42/50\n",
      "159/159 [==============================] - 1s 7ms/step - loss: 0.0030 - mae: 0.0275 - val_loss: 0.0057 - val_mae: 0.0367\n",
      "Epoch 43/50\n",
      "159/159 [==============================] - 1s 7ms/step - loss: 0.0030 - mae: 0.0273 - val_loss: 0.0056 - val_mae: 0.0367\n",
      "Epoch 44/50\n",
      "159/159 [==============================] - 1s 7ms/step - loss: 0.0030 - mae: 0.0272 - val_loss: 0.0057 - val_mae: 0.0368\n",
      "Epoch 45/50\n",
      "159/159 [==============================] - 1s 7ms/step - loss: 0.0030 - mae: 0.0273 - val_loss: 0.0056 - val_mae: 0.0362\n",
      "Epoch 46/50\n",
      "159/159 [==============================] - 1s 7ms/step - loss: 0.0029 - mae: 0.0272 - val_loss: 0.0057 - val_mae: 0.0384\n",
      "Epoch 47/50\n",
      "159/159 [==============================] - 1s 7ms/step - loss: 0.0029 - mae: 0.0273 - val_loss: 0.0057 - val_mae: 0.0373\n",
      "Epoch 48/50\n",
      "159/159 [==============================] - 1s 7ms/step - loss: 0.0029 - mae: 0.0270 - val_loss: 0.0057 - val_mae: 0.0376\n",
      "Epoch 49/50\n",
      "159/159 [==============================] - 1s 7ms/step - loss: 0.0029 - mae: 0.0270 - val_loss: 0.0058 - val_mae: 0.0377\n",
      "Epoch 50/50\n",
      "159/159 [==============================] - 1s 7ms/step - loss: 0.0029 - mae: 0.0271 - val_loss: 0.0057 - val_mae: 0.0372\n",
      "dict_keys(['loss', 'mae', 'val_loss', 'val_mae'])\n"
     ]
    },
    {
     "data": {
      "image/png": "[encoded data removed]",
      "text/plain": [
       "<Figure size 432x288 with 1 Axes>"
      ]
     },
     "metadata": {
      "needs_background": "light",
      "tags": []
     },
     "output_type": "display_data"
    },
    {
     "data": {
      "image/png": "[encoded data removed]",
      "text/plain": [
       "<Figure size 432x288 with 1 Axes>"
      ]
     },
     "metadata": {
      "needs_background": "light",
      "tags": []
     },
     "output_type": "display_data"
    }
   ],
   "source": [
    "training(model, X_train, y_train, X_val, y_val)"
   ]
  },
  {
   "cell_type": "code",
   "execution_count": 137,
   "metadata": {
    "id": "5RPK1efj1CxC"
   },
   "outputs": [],
   "source": [
    "# Save the Model\n",
    "model.save(\"final_model_hour.h5\")"
   ]
  },
  {
   "cell_type": "markdown",
   "metadata": {
    "id": "GnK5PZ9Klsk6"
   },
   "source": [
    "### Model Evaluation/Testing"
   ]
  },
  {
   "cell_type": "code",
   "execution_count": 115,
   "metadata": {
    "colab": {
     "base_uri": "https://localhost:8080/"
    },
    "id": "brFTIQIY6ftl",
    "outputId": "16317b3e-5d9b-4ea4-e0e9-9eb92ecc7ed7"
   },
   "outputs": [
    {
     "name": "stdout",
     "output_type": "stream",
     "text": [
      "WARNING:tensorflow:Layer lstm_3 will not use cuDNN kernels since it doesn't meet the criteria. It will use a generic GPU kernel as fallback when running on GPU.\n"
     ]
    }
   ],
   "source": [
    "from keras.models import load_model\n",
    "model = load_model('final_model_hour.h5')"
   ]
  },
  {
   "cell_type": "code",
   "execution_count": 116,
   "metadata": {
    "colab": {
     "base_uri": "https://localhost:8080/"
    },
    "id": "tQFKpKMD61aB",
    "outputId": "623feb6c-a1a9-4276-d2f3-5184c2a5679e"
   },
   "outputs": [
    {
     "name": "stdout",
     "output_type": "stream",
     "text": [
      "Model: \"sequential_3\"\n",
      "_________________________________________________________________\n",
      "Layer (type)                 Output Shape              Param #   \n",
      "=================================================================\n",
      "conv1d_6 (Conv1D)            (None, 46, 64)            1024      \n",
      "_________________________________________________________________\n",
      "conv1d_7 (Conv1D)            (None, 44, 32)            6176      \n",
      "_________________________________________________________________\n",
      "dropout_3 (Dropout)          (None, 44, 32)            0         \n",
      "_________________________________________________________________\n",
      "max_pooling1d_3 (MaxPooling1 (None, 22, 32)            0         \n",
      "_________________________________________________________________\n",
      "flatten_3 (Flatten)          (None, 704)               0         \n",
      "_________________________________________________________________\n",
      "repeat_vector_3 (RepeatVecto (None, 1, 704)            0         \n",
      "_________________________________________________________________\n",
      "lstm_3 (LSTM)                (None, 1, 50)             151000    \n",
      "_________________________________________________________________\n",
      "time_distributed_6 (TimeDist (None, 1, 20)             1020      \n",
      "_________________________________________________________________\n",
      "time_distributed_7 (TimeDist (None, 1, 5)              105       \n",
      "=================================================================\n",
      "Total params: 159,325\n",
      "Trainable params: 159,325\n",
      "Non-trainable params: 0\n",
      "_________________________________________________________________\n"
     ]
    }
   ],
   "source": [
    "model.summary()"
   ]
  },
  {
   "cell_type": "code",
   "execution_count": null,
   "metadata": {
    "id": "1uPIub2ehUJG"
   },
   "outputs": [],
   "source": [
    "print(\"Evaluate on test data\")\n",
    "results = model.evaluate(X_test, y_test, batch_size=8)\n",
    "print(\"Losses are:\", results)"
   ]
  },
  {
   "cell_type": "markdown",
   "metadata": {
    "id": "dVxXBHWFZpaL"
   },
   "source": [
    "### Evaluate and Plot some Data"
   ]
  },
  {
   "cell_type": "code",
   "execution_count": 118,
   "metadata": {
    "colab": {
     "base_uri": "https://localhost:8080/"
    },
    "id": "TrdmauHP64Nc",
    "outputId": "b14c6b05-80f6-462e-c623-c7cd3eb739c2"
   },
   "outputs": [
    {
     "data": {
      "text/plain": [
       "(394, 1, 5)"
      ]
     },
     "execution_count": 118,
     "metadata": {
      "tags": []
     },
     "output_type": "execute_result"
    }
   ],
   "source": [
    "y_pred = model.predict(X_test)\n",
    "y_pred = y_pred.reshape(y_pred.shape[0], n_features)\n",
    "y_test = y_test.reshape(y_test.shape[0], n_features)"
   ]
  },
  {
   "cell_type": "code",
   "execution_count": 120,
   "metadata": {
    "id": "mig2BSudY49H"
   },
   "outputs": [],
   "source": [
    "# my_scaler = joblib.load(\"scaler.gz\")\n",
    "y_test_unscaled= scaler.inverse_transform(y_test)\n",
    "y_pred_unscaled= scaler.inverse_transform(y_pred)"
   ]
  },
  {
   "cell_type": "code",
   "execution_count": null,
   "metadata": {
    "id": "eshAoZ-UXY5r"
   },
   "outputs": [],
   "source": [
    "df_test = pd.DataFrame(y_test_unscaled)\n",
    "df_pred = pd.DataFrame(y_pred_unscaled)\n"
   ]
  },
  {
   "cell_type": "code",
   "execution_count": 138,
   "metadata": {
    "colab": {
     "base_uri": "https://localhost:8080/",
     "height": 282
    },
    "id": "bfTJ3vIvaWKj",
    "outputId": "0b9bf18c-aa83-4b7e-9e6e-b4ddb56bae2c"
   },
   "outputs": [
    {
     "data": {
      "text/plain": [
       "[<matplotlib.lines.Line2D at 0x7fafc25e7f10>]"
      ]
     },
     "execution_count": 138,
     "metadata": {
      "tags": []
     },
     "output_type": "execute_result"
    },
    {
     "data": {
      "image/png": "[encoded data removed]",
      "text/plain": [
       "<Figure size 432x288 with 1 Axes>"
      ]
     },
     "metadata": {
      "needs_background": "light",
      "tags": []
     },
     "output_type": "display_data"
    }
   ],
   "source": [
    "plt.plot(df_test[1])\n",
    "plt.plot(df_pred[1])"
   ]
  }
 ],
 "metadata": {
  "accelerator": "GPU",
  "colab": {
   "collapsed_sections": [],
   "name": "Training_Notebook_Hour.ipynb",
   "provenance": []
  },
  "kernelspec": {
   "display_name": "Python 3",
   "language": "python",
   "name": "python3"
  },
  "language_info": {
   "codemirror_mode": {
    "name": "ipython",
    "version": 3
   },
   "file_extension": ".py",
   "mimetype": "text/x-python",
   "name": "python",
   "nbconvert_exporter": "python",
   "pygments_lexer": "ipython3",
   "version": "3.7.6"
  }
 },
 "nbformat": 4,
 "nbformat_minor": 1
}
